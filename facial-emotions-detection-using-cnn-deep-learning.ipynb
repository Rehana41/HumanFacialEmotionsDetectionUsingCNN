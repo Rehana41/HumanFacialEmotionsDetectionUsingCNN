{
 "cells": [
  {
   "cell_type": "markdown",
   "metadata": {},
   "source": [
    "# Imports"
   ]
  },
  {
   "cell_type": "code",
   "execution_count": null,
   "metadata": {
    "_cell_guid": "b1076dfc-b9ad-4769-8c92-a6c4dae69d19",
    "_uuid": "8f2839f25d086af736a60e9eeb907d3b93b6e0e5",
    "execution": {
     "iopub.execute_input": "2025-02-03T04:52:12.751701Z",
     "iopub.status.busy": "2025-02-03T04:52:12.751358Z",
     "iopub.status.idle": "2025-02-03T04:52:12.756159Z",
     "shell.execute_reply": "2025-02-03T04:52:12.755342Z",
     "shell.execute_reply.started": "2025-02-03T04:52:12.751673Z"
    },
    "trusted": true
   },
   "outputs": [],
   "source": [
    "import os\n",
    "import numpy as np\n",
    "import matplotlib.pyplot as plt\n",
    "import seaborn as sns\n",
    "from tensorflow.keras.preprocessing.image import ImageDataGenerator\n",
    "from tensorflow.keras.models import Sequential\n",
    "from tensorflow.keras.layers import Conv2D, MaxPooling2D, Flatten, Dense, Dropout, BatchNormalization\n",
    "from tensorflow.keras.optimizers import Adam\n",
    "from tensorflow.keras.callbacks import EarlyStopping, ModelCheckpoint,ReduceLROnPlateau\n",
    "from sklearn.metrics import classification_report, confusion_matrix"
   ]
  },
  {
   "cell_type": "markdown",
   "metadata": {},
   "source": [
    "# 1. Data Loading and Preprocessing\n"
   ]
  },
  {
   "cell_type": "code",
   "execution_count": null,
   "metadata": {
    "execution": {
     "iopub.execute_input": "2025-02-03T04:48:54.410216Z",
     "iopub.status.busy": "2025-02-03T04:48:54.409901Z",
     "iopub.status.idle": "2025-02-03T04:48:54.413995Z",
     "shell.execute_reply": "2025-02-03T04:48:54.413024Z",
     "shell.execute_reply.started": "2025-02-03T04:48:54.410191Z"
    },
    "trusted": true
   },
   "outputs": [],
   "source": [
    "data_dir = '/kaggle/input/face-expression-recognition-dataset/images'\n",
    "train_dir = os.path.join(data_dir, 'train')\n",
    "validation_dir = os.path.join(data_dir, 'validation')"
   ]
  },
  {
   "cell_type": "code",
   "execution_count": null,
   "metadata": {
    "execution": {
     "iopub.execute_input": "2025-02-03T04:48:56.468245Z",
     "iopub.status.busy": "2025-02-03T04:48:56.467959Z",
     "iopub.status.idle": "2025-02-03T04:49:08.123040Z",
     "shell.execute_reply": "2025-02-03T04:49:08.122131Z",
     "shell.execute_reply.started": "2025-02-03T04:48:56.468224Z"
    },
    "trusted": true
   },
   "outputs": [],
   "source": [
    "# Image Data Generator\n",
    "train_datagen = ImageDataGenerator(\n",
    "    rescale=1./255, \n",
    "    rotation_range=20,\n",
    "    zoom_range=0.2, \n",
    "    horizontal_flip=True\n",
    ")\n",
    "validation_datagen = ImageDataGenerator(rescale=1./255)\n",
    "\n",
    "train_generator = train_datagen.flow_from_directory(\n",
    "    train_dir,\n",
    "    target_size=(48, 48),\n",
    "    batch_size=64,\n",
    "    class_mode='categorical',\n",
    "    color_mode='grayscale'\n",
    ")\n",
    "\n",
    "\n",
    "validation_generator = validation_datagen.flow_from_directory(\n",
    "    validation_dir,\n",
    "    target_size=(48, 48),\n",
    "    batch_size=64,\n",
    "    class_mode='categorical',\n",
    "    color_mode='grayscale'\n",
    ")"
   ]
  },
  {
   "cell_type": "markdown",
   "metadata": {},
   "source": [
    "# 2. EDA (Visualizing Some Images)\n"
   ]
  },
  {
   "cell_type": "code",
   "execution_count": null,
   "metadata": {
    "execution": {
     "iopub.execute_input": "2025-02-03T04:49:08.124280Z",
     "iopub.status.busy": "2025-02-03T04:49:08.124021Z",
     "iopub.status.idle": "2025-02-03T04:49:08.883967Z",
     "shell.execute_reply": "2025-02-03T04:49:08.883020Z",
     "shell.execute_reply.started": "2025-02-03T04:49:08.124257Z"
    },
    "trusted": true
   },
   "outputs": [],
   "source": [
    "class_names = list(train_generator.class_indices.keys())\n",
    "\n",
    "images, labels = next(train_generator)\n",
    "plt.figure(figsize=(10, 10))\n",
    "for i in range(9):\n",
    "    plt.subplot(3, 3, i + 1)\n",
    "    plt.imshow(images[i].reshape(48, 48), cmap='gray')\n",
    "    plt.title(class_names[np.argmax(labels[i])])\n",
    "    plt.axis('off')\n",
    "plt.tight_layout()\n",
    "plt.show()"
   ]
  },
  {
   "cell_type": "markdown",
   "metadata": {},
   "source": [
    "# 3. CNN Model Architecture"
   ]
  },
  {
   "cell_type": "code",
   "execution_count": null,
   "metadata": {
    "execution": {
     "iopub.execute_input": "2025-02-03T04:49:31.483402Z",
     "iopub.status.busy": "2025-02-03T04:49:31.483064Z",
     "iopub.status.idle": "2025-02-03T04:49:31.588552Z",
     "shell.execute_reply": "2025-02-03T04:49:31.587870Z",
     "shell.execute_reply.started": "2025-02-03T04:49:31.483375Z"
    },
    "trusted": true
   },
   "outputs": [],
   "source": [
    "# 3. CNN Model Architecture\n",
    "model = Sequential([\n",
    "    Conv2D(64, (3, 3), activation='relu', input_shape=(48, 48, 1)),\n",
    "    BatchNormalization(),\n",
    "    MaxPooling2D(2, 2),\n",
    "    Dropout(0.25),\n",
    "\n",
    "    Conv2D(128, (3, 3), activation='relu'),\n",
    "    BatchNormalization(),\n",
    "    MaxPooling2D(2, 2),\n",
    "    Dropout(0.25),\n",
    "\n",
    "    Conv2D(256, (3, 3), activation='relu'),\n",
    "    BatchNormalization(),\n",
    "    MaxPooling2D(2, 2),\n",
    "    Dropout(0.25),\n",
    "\n",
    "    Flatten(),\n",
    "    Dense(512, activation='relu'),\n",
    "    BatchNormalization(),\n",
    "    Dropout(0.5),\n",
    "\n",
    "    Dense(7, activation='softmax')\n",
    "])\n",
    "\n",
    "model.compile(optimizer=Adam(learning_rate=0.001), loss='categorical_crossentropy', metrics=['accuracy'])\n",
    "\n",
    "model.summary()"
   ]
  },
  {
   "cell_type": "markdown",
   "metadata": {},
   "source": [
    "# 4. Model Training\n"
   ]
  },
  {
   "cell_type": "code",
   "execution_count": null,
   "metadata": {
    "execution": {
     "iopub.execute_input": "2025-02-03T04:52:19.090697Z",
     "iopub.status.busy": "2025-02-03T04:52:19.090375Z",
     "iopub.status.idle": "2025-02-03T05:13:47.357839Z",
     "shell.execute_reply": "2025-02-03T05:13:47.356849Z",
     "shell.execute_reply.started": "2025-02-03T04:52:19.090673Z"
    },
    "trusted": true
   },
   "outputs": [],
   "source": [
    "# Callbacks\n",
    "early_stopping = EarlyStopping(monitor='val_loss', patience=5, restore_best_weights=True)\n",
    "lr_scheduler = ReduceLROnPlateau(monitor='val_loss', factor=0.2, patience=3, min_lr=1e-6, verbose=1)\n",
    "\n",
    "# Model Training\n",
    "history = model.fit(\n",
    "    train_generator,\n",
    "    epochs=50,\n",
    "    validation_data=validation_generator,\n",
    "    callbacks=[early_stopping, lr_scheduler]\n",
    ")"
   ]
  },
  {
   "cell_type": "markdown",
   "metadata": {},
   "source": [
    "# 6. Evaluation - Classification Report & Confusion Matrix"
   ]
  },
  {
   "cell_type": "code",
   "execution_count": null,
   "metadata": {
    "execution": {
     "iopub.execute_input": "2025-02-03T05:13:59.735933Z",
     "iopub.status.busy": "2025-02-03T05:13:59.735598Z",
     "iopub.status.idle": "2025-02-03T05:14:00.693497Z",
     "shell.execute_reply": "2025-02-03T05:14:00.692697Z",
     "shell.execute_reply.started": "2025-02-03T05:13:59.735906Z"
    },
    "trusted": true
   },
   "outputs": [],
   "source": [
    "# 6. Evaluation - Classification Report & Confusion Matrix\n",
    "val_images, val_labels = next(validation_generator)\n",
    "predictions = model.predict(val_images)\n",
    "y_true = np.argmax(val_labels, axis=1)\n",
    "y_pred = np.argmax(predictions, axis=1)\n",
    "\n",
    "print(classification_report(y_true, y_pred, target_names=class_names))\n",
    "\n",
    "cm = confusion_matrix(y_true, y_pred)\n",
    "plt.figure(figsize=(8, 6))\n",
    "sns.heatmap(cm, annot=True, fmt='d', cmap='Blues', xticklabels=class_names, yticklabels=class_names)\n",
    "plt.xlabel('Predicted')\n",
    "plt.ylabel('Actual')\n",
    "plt.title('Confusion Matrix')\n",
    "plt.show()"
   ]
  },
  {
   "cell_type": "markdown",
   "metadata": {},
   "source": [
    "# 7. Detection System\n"
   ]
  },
  {
   "cell_type": "code",
   "execution_count": null,
   "metadata": {
    "execution": {
     "iopub.execute_input": "2025-02-03T05:17:18.828890Z",
     "iopub.status.busy": "2025-02-03T05:17:18.828556Z",
     "iopub.status.idle": "2025-02-03T05:17:18.965859Z",
     "shell.execute_reply": "2025-02-03T05:17:18.965005Z",
     "shell.execute_reply.started": "2025-02-03T05:17:18.828864Z"
    },
    "trusted": true
   },
   "outputs": [],
   "source": [
    "import matplotlib.pyplot as plt\n",
    "from tensorflow.keras.preprocessing import image\n",
    "import numpy as np\n",
    "\n",
    "def detect_emotion(image_path):\n",
    "    img = image.load_img(image_path, target_size=(48, 48), color_mode='grayscale')\n",
    "    img_array = image.img_to_array(img) / 255.0\n",
    "    img_array = np.expand_dims(img_array, axis=0)\n",
    "\n",
    "    prediction = model.predict(img_array)\n",
    "    predicted_index = np.argmax(prediction)\n",
    "    predicted_class = class_names[predicted_index]\n",
    "    confidence = round(prediction[0][predicted_index] * 100, 2)  # Confidence in %\n",
    "\n",
    "    # Display the image with the predicted label and confidence\n",
    "    plt.imshow(img, cmap='gray')\n",
    "    plt.title(f'Predicted Emotion: {predicted_class} ({confidence}%)')\n",
    "    plt.axis('off')\n",
    "    plt.show()\n",
    "\n",
    "    return predicted_class, confidence\n",
    "\n",
    "# Example Detection\n",
    "predicted_emotion, confidence = detect_emotion('/kaggle/input/face-expression-recognition-dataset/images/train/surprise/10011.jpg')\n",
    "print(f\"Emotion: {predicted_emotion}, Confidence: {confidence}%\")\n"
   ]
  },
  {
   "cell_type": "code",
   "execution_count": null,
   "metadata": {
    "execution": {
     "iopub.execute_input": "2025-02-03T05:17:46.433727Z",
     "iopub.status.busy": "2025-02-03T05:17:46.433356Z",
     "iopub.status.idle": "2025-02-03T05:17:46.565705Z",
     "shell.execute_reply": "2025-02-03T05:17:46.564839Z",
     "shell.execute_reply.started": "2025-02-03T05:17:46.433700Z"
    },
    "trusted": true
   },
   "outputs": [],
   "source": [
    "# Example Detection\n",
    "print(detect_emotion('/kaggle/input/face-expression-recognition-dataset/images/train/happy/10005.jpg'))\n"
   ]
  },
  {
   "cell_type": "code",
   "execution_count": null,
   "metadata": {
    "execution": {
     "iopub.execute_input": "2025-02-03T05:18:14.236041Z",
     "iopub.status.busy": "2025-02-03T05:18:14.235724Z",
     "iopub.status.idle": "2025-02-03T05:18:14.368576Z",
     "shell.execute_reply": "2025-02-03T05:18:14.367828Z",
     "shell.execute_reply.started": "2025-02-03T05:18:14.236017Z"
    },
    "trusted": true
   },
   "outputs": [],
   "source": [
    "# Example Detection\n",
    "print(detect_emotion('/kaggle/input/face-expression-recognition-dataset/images/train/angry/10207.jpg'))\n"
   ]
  },
  {
   "cell_type": "code",
   "execution_count": null,
   "metadata": {
    "execution": {
     "iopub.execute_input": "2025-02-03T05:18:47.457418Z",
     "iopub.status.busy": "2025-02-03T05:18:47.457115Z",
     "iopub.status.idle": "2025-02-03T05:18:47.592185Z",
     "shell.execute_reply": "2025-02-03T05:18:47.591298Z",
     "shell.execute_reply.started": "2025-02-03T05:18:47.457396Z"
    },
    "trusted": true
   },
   "outputs": [],
   "source": [
    "# Example Detection\n",
    "print(detect_emotion('/kaggle/input/face-expression-recognition-dataset/images/train/sad/10070.jpg'))\n"
   ]
  },
  {
   "cell_type": "markdown",
   "metadata": {},
   "source": [
    "# 8. Save Model\n"
   ]
  },
  {
   "cell_type": "code",
   "execution_count": null,
   "metadata": {
    "execution": {
     "iopub.execute_input": "2025-02-03T05:19:08.554237Z",
     "iopub.status.busy": "2025-02-03T05:19:08.553880Z",
     "iopub.status.idle": "2025-02-03T05:19:08.665128Z",
     "shell.execute_reply": "2025-02-03T05:19:08.664419Z",
     "shell.execute_reply.started": "2025-02-03T05:19:08.554208Z"
    },
    "trusted": true
   },
   "outputs": [],
   "source": [
    "# 8. Save Model\n",
    "model.save('facial_emotion_detection_model.h5')"
   ]
  },
  {
   "cell_type": "code",
   "execution_count": null,
   "metadata": {
    "execution": {
     "iopub.execute_input": "2025-02-03T05:19:47.656334Z",
     "iopub.status.busy": "2025-02-03T05:19:47.656019Z",
     "iopub.status.idle": "2025-02-03T05:19:47.661395Z",
     "shell.execute_reply": "2025-02-03T05:19:47.660588Z",
     "shell.execute_reply.started": "2025-02-03T05:19:47.656313Z"
    },
    "trusted": true
   },
   "outputs": [],
   "source": [
    "class_names"
   ]
  },
  {
   "cell_type": "code",
   "execution_count": null,
   "metadata": {
    "trusted": true
   },
   "outputs": [],
   "source": []
  },
  {
   "cell_type": "code",
   "execution_count": null,
   "metadata": {},
   "outputs": [],
   "source": []
  }
 ],
 "metadata": {
  "kaggle": {
   "accelerator": "gpu",
   "dataSources": [
    {
     "datasetId": 99505,
     "sourceId": 234911,
     "sourceType": "datasetVersion"
    }
   ],
   "dockerImageVersionId": 30840,
   "isGpuEnabled": true,
   "isInternetEnabled": true,
   "language": "python",
   "sourceType": "notebook"
  },
  "kernelspec": {
   "display_name": "venv",
   "language": "python",
   "name": "python3"
  },
  "language_info": {
   "codemirror_mode": {
    "name": "ipython",
    "version": 3
   },
   "file_extension": ".py",
   "mimetype": "text/x-python",
   "name": "python",
   "nbconvert_exporter": "python",
   "pygments_lexer": "ipython3",
   "version": "3.12.2"
  }
 },
 "nbformat": 4,
 "nbformat_minor": 4
}
